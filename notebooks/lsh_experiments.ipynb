{
 "cells": [
  {
   "cell_type": "code",
   "execution_count": 1,
   "id": "64d8fd13-3019-459e-80ad-3255ea18e5e1",
   "metadata": {},
   "outputs": [],
   "source": [
    "import sys, os"
   ]
  },
  {
   "cell_type": "code",
   "execution_count": 2,
   "id": "b6833321-6822-479c-8f84-24fbc3d7c569",
   "metadata": {},
   "outputs": [
    {
     "name": "stderr",
     "output_type": "stream",
     "text": [
      "Your CPU supports instructions that this binary was not compiled to use: SSE3 SSE4.1 SSE4.2 AVX AVX2\n",
      "For maximum performance, you can install NMSLIB from sources \n",
      "pip install --no-binary :all: nmslib\n"
     ]
    }
   ],
   "source": [
    "import nmslib"
   ]
  },
  {
   "cell_type": "code",
   "execution_count": 3,
   "id": "cb99828a-76a5-47c9-8b12-6802130c17e2",
   "metadata": {},
   "outputs": [],
   "source": [
    "import numpy as np\n",
    "from tqdm import tqdm"
   ]
  },
  {
   "cell_type": "code",
   "execution_count": 4,
   "id": "b3b741fa-7140-4941-8b25-95ad38573a92",
   "metadata": {},
   "outputs": [],
   "source": [
    "import logging\n",
    "logging.basicConfig(level=logging.DEBUG)"
   ]
  },
  {
   "cell_type": "code",
   "execution_count": 5,
   "id": "f49a1dbe-aeb8-480b-a05a-242fc64b0425",
   "metadata": {},
   "outputs": [
    {
     "name": "stdout",
     "output_type": "stream",
     "text": [
      "/home/yblainm/projects/retrievalogy/notebooks\n"
     ]
    }
   ],
   "source": [
    "!pwd"
   ]
  },
  {
   "cell_type": "code",
   "execution_count": 5,
   "id": "5a875531-1aa2-403f-a16f-6d2ca292323c",
   "metadata": {},
   "outputs": [],
   "source": [
    "sys.path.append('..')"
   ]
  },
  {
   "cell_type": "code",
   "execution_count": 6,
   "id": "6dfa64ca-d445-45f7-a834-533183307e98",
   "metadata": {},
   "outputs": [
    {
     "name": "stderr",
     "output_type": "stream",
     "text": [
      "DEBUG:h5py._conv:Creating converter from 7 to 5\n",
      "DEBUG:h5py._conv:Creating converter from 5 to 7\n",
      "DEBUG:h5py._conv:Creating converter from 7 to 5\n",
      "DEBUG:h5py._conv:Creating converter from 5 to 7\n",
      "/home/yblainm/projects/retrievalogy/venv/lib/python3.8/site-packages/tqdm/auto.py:22: TqdmWarning: IProgress not found. Please update jupyter and ipywidgets. See https://ipywidgets.readthedocs.io/en/stable/user_install.html\n",
      "  from .autonotebook import tqdm as notebook_tqdm\n"
     ]
    }
   ],
   "source": [
    "from src.datasets.tatoeba import TatoebaEN"
   ]
  },
  {
   "cell_type": "code",
   "execution_count": 8,
   "id": "816d9e54-7301-4666-aa88-2c03a8d21ed2",
   "metadata": {},
   "outputs": [
    {
     "name": "stderr",
     "output_type": "stream",
     "text": [
      "INFO:nmslib:Loading index from /home/yblainm/projects/retrievalogy/data/eng_sentences_fasttext.nms\n",
      "INFO:nmslib:Loading optimized index.\n",
      "INFO:nmslib:searchMethod: 3\n",
      "INFO:nmslib:Total: 1425903, Memory per object: 1348\n",
      "INFO:nmslib:Finished loading index\n",
      "INFO:nmslib:Set HNSW query-time parameters:\n",
      "INFO:nmslib:ef(Search)         =20\n",
      "INFO:nmslib:algoType           =2\n"
     ]
    }
   ],
   "source": [
    "data_fasttext = TatoebaEN(vectorization_method=\"fasttext\")"
   ]
  },
  {
   "cell_type": "code",
   "execution_count": 8,
   "id": "6ba7d21b-4230-4e4b-8d69-8b9059e6fdc0",
   "metadata": {},
   "outputs": [
    {
     "data": {
      "text/plain": [
       "[(array([     0,  59505,   1442,  81265,   1363,  59614,   1423, 166102,\n",
       "          81493,  11748], dtype=int32),\n",
       "  array([5.9604645e-08, 3.0917227e-02, 3.0994177e-02, 4.2958915e-02,\n",
       "         6.1503649e-02, 6.7718565e-02, 6.7822933e-02, 6.9813490e-02,\n",
       "         7.0812106e-02, 7.0814312e-02], dtype=float32))]"
      ]
     },
     "execution_count": 8,
     "metadata": {},
     "output_type": "execute_result"
    }
   ],
   "source": [
    "data_fasttext.index.knnQueryBatch([data_fasttext.vectors[0]])"
   ]
  },
  {
   "cell_type": "code",
   "execution_count": 7,
   "id": "0f208c75-bbeb-473f-a727-24d90ce62807",
   "metadata": {},
   "outputs": [],
   "source": [
    "from datasets import load_metric"
   ]
  },
  {
   "cell_type": "code",
   "execution_count": 8,
   "id": "935c4686-20fa-4340-b5ac-998d1864be58",
   "metadata": {},
   "outputs": [
    {
     "name": "stderr",
     "output_type": "stream",
     "text": [
      "DEBUG:urllib3.connectionpool:Starting new HTTPS connection (1): s3.amazonaws.com:443\n",
      "DEBUG:urllib3.connectionpool:https://s3.amazonaws.com:443 \"HEAD /datasets.huggingface.co/datasets/metrics/ter/ter.py HTTP/1.1\" 404 0\n",
      "DEBUG:urllib3.connectionpool:Starting new HTTPS connection (1): raw.githubusercontent.com:443\n",
      "DEBUG:urllib3.connectionpool:https://raw.githubusercontent.com:443 \"HEAD /huggingface/datasets/2.2.2/metrics/ter/ter.py HTTP/1.1\" 200 0\n"
     ]
    }
   ],
   "source": [
    "edit_dist = load_metric(\"ter\")"
   ]
  },
  {
   "cell_type": "code",
   "execution_count": 18,
   "id": "b13e032a-f4b9-44a5-9435-3aa1631649d4",
   "metadata": {},
   "outputs": [],
   "source": [
    "def edit_distance(analogies):\n",
    "    \"\"\"\n",
    "    Input is a list of 4-tuples of strings (a,b,c,d)\n",
    "    \"\"\"\n",
    "    def getdist(x,y):\n",
    "        return edit_dist.compute(\n",
    "            predictions=[x],\n",
    "            references=[[y]],\n",
    "            case_sensitive=True\n",
    "        )[\"num_edits\"]\n",
    "          \n",
    "    edit_dists = np.array(#torch.tensor(\n",
    "        tuple(\n",
    "            tuple(getdist(x,y) for x,y in ((anlg[0],anlg[1]),(anlg[0], anlg[2]),(anlg[1],anlg[3]),(anlg[2],anlg[3])))\n",
    "            for anlg in analogies#tqdm(analogies)\n",
    "        ),\n",
    "        dtype=float\n",
    "    )\n",
    "    # [\"num_edits\"] for sequence_pred, sequence_ref in zip(predictions, references)], dtype=torch.float)\n",
    "    mean = edit_dists.mean(axis=0)\n",
    "    std = edit_dists.std(axis=0)#dim=-1)\n",
    "    return mean, std\n",
    "                      \n",
    "# {'score': 40.0, 'num_edits': 2, 'ref_length': 5.0}"
   ]
  },
  {
   "cell_type": "code",
   "execution_count": 12,
   "id": "11be0902-19f1-4de4-90ed-0e3946796626",
   "metadata": {},
   "outputs": [
    {
     "name": "stderr",
     "output_type": "stream",
     "text": [
      "100%|████████████████████████████████████████████████████████████████████████████████████████████████████████████████████████████████████████████████████████████████████████████████| 2/2 [00:00<00:00, 37.78it/s]\n"
     ]
    },
    {
     "data": {
      "text/plain": [
       "(array([1. , 2.5, 2. , 1.5]), array([0. , 0.5, 0. , 0.5]))"
      ]
     },
     "execution_count": 12,
     "metadata": {},
     "output_type": "execute_result"
    }
   ],
   "source": [
    "edit_distance([(\"hey I'm yves\", \"hey you're yves\", \"hey you're troy\", \"hey he's troy\"),\n",
    "               (\"hey how's yves\", \"hey it's yves\", \"wow is that yves\", \"wow you're yves\")])"
   ]
  },
  {
   "cell_type": "code",
   "execution_count": 13,
   "id": "0467f26e-07e7-433e-ab58-704baf871310",
   "metadata": {},
   "outputs": [
    {
     "data": {
      "text/plain": [
       "'We often go there.'"
      ]
     },
     "execution_count": 13,
     "metadata": {},
     "output_type": "execute_result"
    }
   ],
   "source": [
    "ia = 101 # 456783\n",
    "a = data_fasttext.vectors[ia]\n",
    "sa = data_fasttext.sentences[ia]\n",
    "sa"
   ]
  },
  {
   "cell_type": "code",
   "execution_count": 14,
   "id": "b5045550-41e2-4ed3-ab19-3797bbbae9b7",
   "metadata": {},
   "outputs": [
    {
     "data": {
      "text/plain": [
       "'We go there frequently.'"
      ]
     },
     "execution_count": 14,
     "metadata": {},
     "output_type": "execute_result"
    }
   ],
   "source": [
    "ib = data_fasttext.index.knnQuery(a)[0][1]#[5]\n",
    "b = data_fasttext.vectors[ib]\n",
    "sb = data_fasttext.sentences[ib]\n",
    "sb"
   ]
  },
  {
   "cell_type": "code",
   "execution_count": 15,
   "id": "726dad86-7d19-40a0-8dc6-b546181d86fc",
   "metadata": {},
   "outputs": [
    {
     "data": {
      "text/plain": [
       "\"We don't have to go there today.\""
      ]
     },
     "execution_count": 15,
     "metadata": {},
     "output_type": "execute_result"
    }
   ],
   "source": [
    "ic = data_fasttext.index.knnQuery(b)[0][-1]#[4]\n",
    "c = data_fasttext.vectors[ic]\n",
    "sc = data_fasttext.sentences[ic]\n",
    "sc"
   ]
  },
  {
   "cell_type": "code",
   "execution_count": 16,
   "id": "92084066-83b9-4c77-94bc-9d62d7d331f9",
   "metadata": {},
   "outputs": [
    {
     "data": {
      "text/plain": [
       "\"You don't have to go there today.\""
      ]
     },
     "execution_count": 16,
     "metadata": {},
     "output_type": "execute_result"
    }
   ],
   "source": [
    "d = c + b - a\n",
    "i_d = data_fasttext.index.knnQuery(d)[0][4]#[4]\n",
    "sd = data_fasttext.sentences[i_d]\n",
    "sd"
   ]
  },
  {
   "cell_type": "code",
   "execution_count": 17,
   "id": "426a86f8-95d9-4581-a92f-5d5189f41334",
   "metadata": {},
   "outputs": [
    {
     "data": {
      "text/plain": [
       "31438"
      ]
     },
     "execution_count": 17,
     "metadata": {},
     "output_type": "execute_result"
    }
   ],
   "source": [
    "i_knn = data_fasttext.index.knnQuery(a)[0]\n",
    "i_knn[~(i_knn == np.array([ia, ib, ic, i_d])[...,None]).any(axis=0)][3]"
   ]
  },
  {
   "cell_type": "code",
   "execution_count": null,
   "id": "18f95072-c55d-4542-9091-7b1678b22bce",
   "metadata": {},
   "outputs": [],
   "source": [
    "data_fasttext.index.knnQueryBatch(data_fasttext.vectors[:200000], num_threads=4)"
   ]
  },
  {
   "cell_type": "code",
   "execution_count": 13,
   "id": "ef00884c-586d-41ed-a077-22fdad000343",
   "metadata": {},
   "outputs": [],
   "source": [
    "def get_analogy(data: TatoebaEN, ia: int):\n",
    "    \n",
    "    def dedup(i_knn, *idx):\n",
    "        return i_knn[~(i_knn == np.array(idx)[...,None]).any(axis=0)]\n",
    "    \n",
    "    a = data.vectors[ia]\n",
    "    sa = data.sentences[ia]\n",
    "    \n",
    "    ib = dedup(data.index.knnQuery(a)[0], ia)[3]\n",
    "    b = data.vectors[ib]\n",
    "    sb = data.sentences[ib]\n",
    "    \n",
    "    ic = dedup(data.index.knnQuery(b, k=15)[0], ia, ib)[-1]\n",
    "    c = data.vectors[ic]\n",
    "    sc = data.sentences[ic]\n",
    "    \n",
    "    d = c + b - a\n",
    "    i_d = dedup(data.index.knnQuery(d)[0], ia, ib, ic)[3]\n",
    "    sd = data.sentences[i_d]\n",
    "    \n",
    "    return (ia, ib, ic, i_d), (sa, sb, sc, sd), (a, b, c, d)"
   ]
  },
  {
   "cell_type": "code",
   "execution_count": 19,
   "id": "58b97af8-6950-49c6-b34e-04ff33aeee92",
   "metadata": {},
   "outputs": [
    {
     "data": {
      "text/plain": [
       "((10012, 34922, 48324, 222431),\n",
       " ('Tom is stark naked.',\n",
       "  'Tom is intimidating.',\n",
       "  'Tom is enthusiastic.',\n",
       "  'Tom is very intimidating.'))"
      ]
     },
     "execution_count": 19,
     "metadata": {},
     "output_type": "execute_result"
    }
   ],
   "source": [
    "get_analogy(data_fasttext, 10012)[:-1]"
   ]
  },
  {
   "cell_type": "code",
   "execution_count": 29,
   "id": "4f9f330d-c14d-433f-b5d7-a6f65c5931c0",
   "metadata": {},
   "outputs": [
    {
     "name": "stderr",
     "output_type": "stream",
     "text": [
      "100%|████████████████████████████████████████████████████████████████████████████████████████████████████████████████████████████████████████████████████████████████████| 100000/100000 [00:39<00:00, 2563.46it/s]\n"
     ]
    }
   ],
   "source": [
    "i_anlg, s_anlg, v_anlg = zip(*tuple(get_analogy(data_fasttext, ia) for ia in tqdm(range(100000))))"
   ]
  },
  {
   "cell_type": "code",
   "execution_count": 30,
   "id": "dd64b82e-e7a1-443f-a956-50c83ec508f3",
   "metadata": {},
   "outputs": [],
   "source": [
    "# i_anlg, s_anlg"
   ]
  },
  {
   "cell_type": "code",
   "execution_count": 31,
   "id": "7d096ca8-f05e-418c-91e2-3e443a57c4a9",
   "metadata": {},
   "outputs": [
    {
     "name": "stderr",
     "output_type": "stream",
     "text": [
      "100%|█████████████████████████████████████████████████████████████████████████████████████████████████████████████████████████████████████████████████████████████████████| 100000/100000 [15:43<00:00, 105.94it/s]\n"
     ]
    }
   ],
   "source": [
    "mean, std = edit_distance(s_anlg)\n",
    "mean, std"
   ]
  },
  {
   "cell_type": "code",
   "execution_count": 33,
   "id": "cde487b0-a8be-453b-a6b5-ea6f30fd51bd",
   "metadata": {},
   "outputs": [
    {
     "data": {
      "text/plain": [
       "(array([2.01169, 3.25917, 3.17746, 2.57774]),\n",
       " array([1.39836095, 1.96181572, 2.16225992, 2.01190867]))"
      ]
     },
     "execution_count": 33,
     "metadata": {},
     "output_type": "execute_result"
    }
   ],
   "source": [
    "mean, std"
   ]
  },
  {
   "cell_type": "code",
   "execution_count": 39,
   "id": "18d3a7f4-1fc7-4971-9034-b28c331efc22",
   "metadata": {},
   "outputs": [
    {
     "data": {
      "text/plain": [
       "'3.51'"
      ]
     },
     "execution_count": 39,
     "metadata": {},
     "output_type": "execute_result"
    }
   ],
   "source": [
    "f\"{3.5124123:0.2f}\""
   ]
  },
  {
   "cell_type": "code",
   "execution_count": 43,
   "id": "964b5d88-420c-4de2-bccf-aa6d7d22004b",
   "metadata": {},
   "outputs": [
    {
     "name": "stdout",
     "output_type": "stream",
     "text": [
      "2.01+-1.40\t3.26+-1.96\t3.18+-2.16\t2.58+-2.01\n"
     ]
    }
   ],
   "source": [
    "print('\\t'.join(f\"{m:0.2f}+-{s:0.2f}\" for m,s in zip(mean, std)))"
   ]
  },
  {
   "cell_type": "code",
   "execution_count": 51,
   "id": "af6a003c-7ca0-44f8-bc09-d62e2e4d3179",
   "metadata": {},
   "outputs": [
    {
     "name": "stdout",
     "output_type": "stream",
     "text": [
      "Ziri is a foreman.\tZiri is a janitor.\tZiri is a dermatologist.\tZiri is a biologist.\n"
     ]
    }
   ],
   "source": [
    "print('\\t'.join(s_anlg[0]))"
   ]
  },
  {
   "cell_type": "code",
   "execution_count": 53,
   "id": "8873d37a-7eb6-4d49-977e-b01a00dafedf",
   "metadata": {},
   "outputs": [],
   "source": [
    "with open(\"../results/lsh_experiments_fasttext.tsv\", 'w') as f:\n",
    "    f.write(\"a_b\\ta_c\\tb_d\\tc_d\\n\")\n",
    "    f.write('\\t'.join(f\"{m:0.2f}+-{s:0.2f}\" for m,s in zip(mean, std)))\n",
    "    f.write('\\n')\n",
    "    f.write(\"a\\tb\\tc\\td\\n\")\n",
    "    f.writelines('\\t'.join(abcd) + '\\n' for abcd in s_anlg)"
   ]
  },
  {
   "cell_type": "code",
   "execution_count": 11,
   "id": "e1434ee2-2325-434c-995d-04c35e29e79d",
   "metadata": {},
   "outputs": [
    {
     "name": "stderr",
     "output_type": "stream",
     "text": [
      "INFO:nmslib:Loading index from /home/yblainm/projects/retrievalogy/data/eng_sentences_transformer.nms\n",
      "INFO:nmslib:Loading optimized index.\n",
      "INFO:nmslib:searchMethod: 3\n",
      "INFO:nmslib:Total: 1425903, Memory per object: 3220\n",
      "INFO:nmslib:Finished loading index\n",
      "INFO:nmslib:Set HNSW query-time parameters:\n",
      "INFO:nmslib:ef(Search)         =20\n",
      "INFO:nmslib:algoType           =2\n"
     ]
    }
   ],
   "source": [
    "data_sbert = TatoebaEN(vectorization_method=\"transformer\")"
   ]
  },
  {
   "cell_type": "code",
   "execution_count": null,
   "id": "6d2ad909-801f-4623-89e1-a54702c34881",
   "metadata": {},
   "outputs": [],
   "source": [
    "i_anlg, s_anlg, v_anlg = zip(*tuple(get_analogy(data_sbert, ia) for ia in tqdm(range(10000))))"
   ]
  },
  {
   "cell_type": "code",
   "execution_count": 16,
   "id": "97119df2-b43f-44b6-986f-cdf0aa286800",
   "metadata": {},
   "outputs": [
    {
     "data": {
      "text/plain": [
       "((\"We're guests here.\",\n",
       "  \"You're all our guests tonight.\",\n",
       "  \"We're having five guests tonight.\",\n",
       "  \"Tomorrow evening we'll have five guests.\"),\n",
       " ('How did you sleep?',\n",
       "  'Did you sleep well?',\n",
       "  'Did you have a good night?',\n",
       "  'Did you have a good sleep?'))"
      ]
     },
     "execution_count": 16,
     "metadata": {},
     "output_type": "execute_result"
    }
   ],
   "source": [
    "s_anlg[3:5]"
   ]
  },
  {
   "cell_type": "code",
   "execution_count": 19,
   "id": "ec93d536-04ab-421e-968d-c284af4d8722",
   "metadata": {},
   "outputs": [
    {
     "data": {
      "text/plain": [
       "(array([3.6372, 4.8096, 4.6617, 4.3552]),\n",
       " array([1.8512634 , 2.0155763 , 2.18514373, 2.25597716]))"
      ]
     },
     "execution_count": 19,
     "metadata": {},
     "output_type": "execute_result"
    }
   ],
   "source": [
    "mean, std = edit_distance(s_anlg)\n",
    "mean, std"
   ]
  },
  {
   "cell_type": "code",
   "execution_count": 20,
   "id": "dd561417-eb2c-4dd1-928e-d2c6ccf4ecac",
   "metadata": {},
   "outputs": [],
   "source": [
    "with open(\"../results/lsh_experiments_sbert.tsv\", 'w') as f:\n",
    "    f.write(\"a_b\\ta_c\\tb_d\\tc_d\\n\")\n",
    "    f.write('\\t'.join(f\"{m:0.2f}+-{s:0.2f}\" for m,s in zip(mean, std)))\n",
    "    f.write('\\n')\n",
    "    f.write(\"a\\tb\\tc\\td\\n\")\n",
    "    f.writelines('\\t'.join(abcd) + '\\n' for abcd in s_anlg)"
   ]
  },
  {
   "cell_type": "code",
   "execution_count": 21,
   "id": "07457e2b-583c-4e93-a45c-8a8b020149e2",
   "metadata": {},
   "outputs": [
    {
     "name": "stdout",
     "output_type": "stream",
     "text": [
      "3.64+-1.85\t4.81+-2.02\t4.66+-2.19\t4.36+-2.26\n"
     ]
    }
   ],
   "source": [
    "print('\\t'.join(f\"{m:0.2f}+-{s:0.2f}\" for m,s in zip(mean, std)))"
   ]
  }
 ],
 "metadata": {
  "kernelspec": {
   "display_name": "retrievalogy",
   "language": "python",
   "name": "retrievalogy"
  },
  "language_info": {
   "codemirror_mode": {
    "name": "ipython",
    "version": 3
   },
   "file_extension": ".py",
   "mimetype": "text/x-python",
   "name": "python",
   "nbconvert_exporter": "python",
   "pygments_lexer": "ipython3",
   "version": "3.8.10"
  }
 },
 "nbformat": 4,
 "nbformat_minor": 5
}
